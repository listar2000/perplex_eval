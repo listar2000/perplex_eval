{
 "cells": [
  {
   "cell_type": "code",
   "execution_count": 3,
   "id": "6ea67ca6-7f49-4dc6-9fa8-9d285f17f294",
   "metadata": {},
   "outputs": [
    {
     "name": "stdout",
     "output_type": "stream",
     "text": [
      "gemma-3-4b-it.csv\n",
      "Llama-3.2-3B-Instruct.csv\n",
      "Phi-3-mini-4k-instruct.csv\n",
      "phi-4.csv\n",
      "Qwen3-0.6B.csv\n",
      "Qwen3-8B.csv\n",
      "wiki-filtered_gemma-3-4b-it.parquet\n",
      "wiki-filtered_gpt2.parquet\n",
      "wiki-filtered_Llama-3.2-3B-Instruct.parquet\n",
      "wiki-filtered_Llama-3.2-3B.parquet\n",
      "wiki-filtered_Phi-3-mini-4k-instruct.parquet\n",
      "wiki-filtered_phi4.parquet\n",
      "wiki-filtered_Qwen3-0.6B.parquet\n",
      "wiki-filtered_Qwen3-8B.parquet\n"
     ]
    }
   ],
   "source": [
    "!ls /net/scratch2/siyangwu/tinibench/experiment1:wiki_ppl"
   ]
  },
  {
   "cell_type": "code",
   "execution_count": null,
   "id": "8edcfc61-9c5d-47df-96d5-9e808b79a006",
   "metadata": {},
   "outputs": [],
   "source": []
  },
  {
   "cell_type": "code",
   "execution_count": 1,
   "id": "25d0230b-e293-4397-b20a-c45841049331",
   "metadata": {},
   "outputs": [],
   "source": [
    "import pandas as pd \n",
    "import numpy as np\n",
    "# incommon \n",
    "# common_models = [\n",
    "#     \"gemma-3-4b-it\",\n",
    "#     \"Llama-3.2-3B-Instruct\",\n",
    "#     \"Phi-3-mini-4k-instruct\",\n",
    "#     \"phi4\",\n",
    "#     \"Qwen3-0.6B\",\n",
    "#     \"Qwen3-8B\"\n",
    "# ]\n",
    "\n"
   ]
  },
  {
   "cell_type": "code",
   "execution_count": 1,
   "id": "0213dba3-dc08-4894-a63a-7fd50a7e9970",
   "metadata": {},
   "outputs": [],
   "source": [
    "import pandas as pd\n",
    "import numpy as np\n",
    "import os\n",
    "import math\n",
    "\n",
    "# Define the folder and files\n",
    "base_path = \"/net/scratch2/siyangwu/tinibench/experiment1:wiki_ppl\"\n",
    "parquet_files = {\n",
    "    \"gemma-3-4b-it\": \"wiki-filtered_gemma-3-4b-it.parquet\",\n",
    "    \"Llama-3.2-3B-Instruct\": \"wiki-filtered_Llama-3.2-3B-Instruct.parquet\",\n",
    "    \"Phi-3-mini-4k-instruct\": \"wiki-filtered_Phi-3-mini-4k-instruct.parquet\",\n",
    "    \"phi-4\": \"wiki-filtered_phi4.parquet\",\n",
    "    \"Qwen3-0.6B\": \"wiki-filtered_Qwen3-0.6B.parquet\",\n",
    "    \"Qwen3-8B\": \"wiki-filtered_Qwen3-8B.parquet\"\n",
    "}\n",
    "\n",
    "# Function to compute perplexity from logprobs\n",
    "def compute_perplexities(df):\n",
    "    df_ppl = pd.DataFrame()\n",
    "    for col in df.columns:\n",
    "        if \"logprob\" in col:\n",
    "            avg_logprob = df[col].apply(np.mean)\n",
    "            ppl = np.exp(-avg_logprob)\n",
    "            df_ppl[col] = ppl\n",
    "    return df_ppl\n",
    "\n",
    "# Process each file and compute token-level perplexities\n",
    "all_ppl = []\n",
    "\n",
    "for model_name, file_name in parquet_files.items():\n",
    "    full_path = os.path.join(base_path, file_name)\n",
    "    df = pd.read_parquet(full_path)\n",
    "    df_ppl = compute_perplexities(df)\n",
    "    df_ppl.columns = [f\"{model_name}\" for _ in df_ppl.columns]  # unify model name\n",
    "    all_ppl.append(df_ppl.mean(axis=1))  # average if multiple logprob columns per model\n",
    "\n",
    "# Combine all perplexity columns into one DataFrame\n",
    "ppl_df = pd.concat(all_ppl, axis=1)\n",
    "ppl_df.columns = list(parquet_files.keys())"
   ]
  },
  {
   "cell_type": "code",
   "execution_count": 2,
   "id": "a7c429c5-1948-4352-b59d-30a81650abd3",
   "metadata": {},
   "outputs": [
    {
     "data": {
      "text/html": [
       "<div>\n",
       "<style scoped>\n",
       "    .dataframe tbody tr th:only-of-type {\n",
       "        vertical-align: middle;\n",
       "    }\n",
       "\n",
       "    .dataframe tbody tr th {\n",
       "        vertical-align: top;\n",
       "    }\n",
       "\n",
       "    .dataframe thead th {\n",
       "        text-align: right;\n",
       "    }\n",
       "</style>\n",
       "<table border=\"1\" class=\"dataframe\">\n",
       "  <thead>\n",
       "    <tr style=\"text-align: right;\">\n",
       "      <th></th>\n",
       "      <th>gemma-3-4b-it</th>\n",
       "      <th>Llama-3.2-3B-Instruct</th>\n",
       "      <th>Phi-3-mini-4k-instruct</th>\n",
       "      <th>phi-4</th>\n",
       "      <th>Qwen3-0.6B</th>\n",
       "      <th>Qwen3-8B</th>\n",
       "    </tr>\n",
       "  </thead>\n",
       "  <tbody>\n",
       "    <tr>\n",
       "      <th>0</th>\n",
       "      <td>44.263416</td>\n",
       "      <td>3.994125</td>\n",
       "      <td>2.570821</td>\n",
       "      <td>3.217636</td>\n",
       "      <td>11.027039</td>\n",
       "      <td>4.287660</td>\n",
       "    </tr>\n",
       "    <tr>\n",
       "      <th>1</th>\n",
       "      <td>142.279068</td>\n",
       "      <td>8.019073</td>\n",
       "      <td>4.304696</td>\n",
       "      <td>3.918892</td>\n",
       "      <td>20.584625</td>\n",
       "      <td>7.036053</td>\n",
       "    </tr>\n",
       "    <tr>\n",
       "      <th>2</th>\n",
       "      <td>87.107178</td>\n",
       "      <td>8.294314</td>\n",
       "      <td>4.445204</td>\n",
       "      <td>5.220045</td>\n",
       "      <td>23.575470</td>\n",
       "      <td>9.456997</td>\n",
       "    </tr>\n",
       "    <tr>\n",
       "      <th>3</th>\n",
       "      <td>125.225395</td>\n",
       "      <td>6.731973</td>\n",
       "      <td>4.797678</td>\n",
       "      <td>4.633311</td>\n",
       "      <td>11.950290</td>\n",
       "      <td>4.922348</td>\n",
       "    </tr>\n",
       "    <tr>\n",
       "      <th>4</th>\n",
       "      <td>51.996536</td>\n",
       "      <td>7.785151</td>\n",
       "      <td>3.243001</td>\n",
       "      <td>5.196146</td>\n",
       "      <td>10.616940</td>\n",
       "      <td>7.689096</td>\n",
       "    </tr>\n",
       "  </tbody>\n",
       "</table>\n",
       "</div>"
      ],
      "text/plain": [
       "   gemma-3-4b-it  Llama-3.2-3B-Instruct  Phi-3-mini-4k-instruct     phi-4  \\\n",
       "0      44.263416               3.994125                2.570821  3.217636   \n",
       "1     142.279068               8.019073                4.304696  3.918892   \n",
       "2      87.107178               8.294314                4.445204  5.220045   \n",
       "3     125.225395               6.731973                4.797678  4.633311   \n",
       "4      51.996536               7.785151                3.243001  5.196146   \n",
       "\n",
       "   Qwen3-0.6B  Qwen3-8B  \n",
       "0   11.027039  4.287660  \n",
       "1   20.584625  7.036053  \n",
       "2   23.575470  9.456997  \n",
       "3   11.950290  4.922348  \n",
       "4   10.616940  7.689096  "
      ]
     },
     "execution_count": 2,
     "metadata": {},
     "output_type": "execute_result"
    }
   ],
   "source": [
    "ppl_df.head()"
   ]
  },
  {
   "cell_type": "code",
   "execution_count": 3,
   "id": "494312a0-220d-4421-a385-928ab684019f",
   "metadata": {},
   "outputs": [
    {
     "data": {
      "text/html": [
       "<div>\n",
       "<style scoped>\n",
       "    .dataframe tbody tr th:only-of-type {\n",
       "        vertical-align: middle;\n",
       "    }\n",
       "\n",
       "    .dataframe tbody tr th {\n",
       "        vertical-align: top;\n",
       "    }\n",
       "\n",
       "    .dataframe thead th {\n",
       "        text-align: right;\n",
       "    }\n",
       "</style>\n",
       "<table border=\"1\" class=\"dataframe\">\n",
       "  <thead>\n",
       "    <tr style=\"text-align: right;\">\n",
       "      <th></th>\n",
       "      <th>question_id</th>\n",
       "      <th>predicted_letter</th>\n",
       "      <th>correct_letter</th>\n",
       "      <th>is_correct</th>\n",
       "      <th>model_response</th>\n",
       "    </tr>\n",
       "  </thead>\n",
       "  <tbody>\n",
       "    <tr>\n",
       "      <th>0</th>\n",
       "      <td>Q0</td>\n",
       "      <td>C</td>\n",
       "      <td>C</td>\n",
       "      <td>True</td>\n",
       "      <td>C</td>\n",
       "    </tr>\n",
       "    <tr>\n",
       "      <th>1</th>\n",
       "      <td>Q1</td>\n",
       "      <td>C</td>\n",
       "      <td>C</td>\n",
       "      <td>True</td>\n",
       "      <td>C</td>\n",
       "    </tr>\n",
       "    <tr>\n",
       "      <th>2</th>\n",
       "      <td>Q1002</td>\n",
       "      <td>C</td>\n",
       "      <td>C</td>\n",
       "      <td>True</td>\n",
       "      <td>C</td>\n",
       "    </tr>\n",
       "    <tr>\n",
       "      <th>3</th>\n",
       "      <td>Q1003</td>\n",
       "      <td>C</td>\n",
       "      <td>A</td>\n",
       "      <td>False</td>\n",
       "      <td>Answer: C</td>\n",
       "    </tr>\n",
       "    <tr>\n",
       "      <th>4</th>\n",
       "      <td>Q1007</td>\n",
       "      <td>C</td>\n",
       "      <td>T</td>\n",
       "      <td>False</td>\n",
       "      <td>C</td>\n",
       "    </tr>\n",
       "  </tbody>\n",
       "</table>\n",
       "</div>"
      ],
      "text/plain": [
       "  question_id predicted_letter correct_letter  is_correct model_response\n",
       "0          Q0                C              C        True              C\n",
       "1          Q1                C              C        True              C\n",
       "2       Q1002                C              C        True              C\n",
       "3       Q1003                C              A       False      Answer: C\n",
       "4       Q1007                C              T       False              C"
      ]
     },
     "execution_count": 3,
     "metadata": {},
     "output_type": "execute_result"
    }
   ],
   "source": [
    "performance = pd.read_csv(\"/net/scratch2/siyangwu/tinibench/experiment1:wiki_ppl/gemma-3-4b-it.csv\")\n",
    "performance.head()"
   ]
  },
  {
   "cell_type": "code",
   "execution_count": 4,
   "id": "c5d092a9-8017-46a9-ba35-bfc1e3ccb2fa",
   "metadata": {},
   "outputs": [
    {
     "data": {
      "text/plain": [
       "{'gemma-3-4b-it': np.float64(0.6583034647550776),\n",
       " 'Llama-3.2-3B-Instruct': np.float64(0.3954599761051374),\n",
       " 'Phi-3-mini-4k-instruct': np.float64(0.5256869772998806),\n",
       " 'phi-4': np.float64(0.4405594405594406),\n",
       " 'Qwen3-0.6B': np.float64(0.2855436081242533),\n",
       " 'Qwen3-8B': np.float64(0.46236559139784944)}"
      ]
     },
     "execution_count": 4,
     "metadata": {},
     "output_type": "execute_result"
    }
   ],
   "source": [
    "import pandas as pd\n",
    "import os\n",
    "\n",
    "# Base path and files\n",
    "csv_base_path = \"/net/scratch2/siyangwu/tinibench/experiment1:wiki_ppl\"\n",
    "csv_files = [\n",
    "    \"gemma-3-4b-it.csv\",\n",
    "    \"Llama-3.2-3B-Instruct.csv\",\n",
    "    \"Phi-3-mini-4k-instruct.csv\",\n",
    "    \"phi-4.csv\",\n",
    "    \"Qwen3-0.6B.csv\",\n",
    "    \"Qwen3-8B.csv\"\n",
    "]\n",
    "\n",
    "# Dictionary to hold model accuracies\n",
    "model_accuracy = {}\n",
    "\n",
    "# Process each CSV file\n",
    "for file in csv_files:\n",
    "    model_name = file.replace(\".csv\", \"\")\n",
    "    file_path = os.path.join(csv_base_path, file)\n",
    "    df = pd.read_csv(file_path)\n",
    "    \n",
    "    # Filter out empty responses\n",
    "    df_filtered = df[df[\"model_response\"].notna() & (df[\"model_response\"].str.strip() != \"\")]\n",
    "    \n",
    "    # Compute accuracy\n",
    "    if \"is_correct\" in df_filtered.columns:\n",
    "        accuracy = df_filtered[\"is_correct\"].mean()\n",
    "        model_accuracy[model_name] = accuracy\n",
    "    else:\n",
    "        model_accuracy[model_name] = None  # missing correctness info\n",
    "\n",
    "model_accuracy\n"
   ]
  },
  {
   "cell_type": "code",
   "execution_count": 5,
   "id": "3a7b4116-eeb7-44fb-a600-b09bcec47771",
   "metadata": {},
   "outputs": [
    {
     "data": {
      "text/plain": [
       "Index(['gemma-3-4b-it', 'Llama-3.2-3B-Instruct', 'Phi-3-mini-4k-instruct',\n",
       "       'phi-4', 'Qwen3-0.6B', 'Qwen3-8B'],\n",
       "      dtype='object')"
      ]
     },
     "execution_count": 5,
     "metadata": {},
     "output_type": "execute_result"
    }
   ],
   "source": [
    "ppl_df.columns"
   ]
  },
  {
   "cell_type": "code",
   "execution_count": 6,
   "id": "003a0aaf-581e-4a21-8fe1-333d5be23f63",
   "metadata": {},
   "outputs": [],
   "source": [
    "import numpy as np\n",
    "import pandas as pd\n",
    "import itertools\n",
    "\n",
    "# ── Assume ppl_df and model_accuracy are loaded in your workspace ──────────────\n",
    "#    ppl_df: DataFrame of shape (n_chunks, d_models)\n",
    "#    model_accuracy: dict mapping each model name to its accuracy\n",
    "\n",
    "# 1) Align models present in both\n",
    "common_models = sorted(set(ppl_df.columns).intersection(model_accuracy.keys()))\n",
    "\n",
    "# 2) Build accuracy vector y\n",
    "y = np.array([model_accuracy[m] for m in common_models])\n",
    "\n",
    "# 3) Compute γ_j for each chunk j\n",
    "gamma_values = []\n",
    "for idx, row in ppl_df[common_models].iterrows():\n",
    "    x = row.values  # perplexity of each model on chunk idx\n",
    "    ranks = pd.Series(x).rank(method=\"average\", ascending=True).values\n",
    "    gamma = 0.0\n",
    "    d = len(common_models)\n",
    "    for k, l in itertools.permutations(range(d), 2):\n",
    "        gamma += np.sign(y[k] - y[l]) * (ranks[k] - ranks[l])\n",
    "    gamma_values.append(gamma)\n",
    "\n",
    "# 4) Create and display results\n",
    "result_df = pd.DataFrame({\n",
    "    \"chunk_index\": ppl_df.index,\n",
    "    \"gamma\": gamma_values\n",
    "})\n"
   ]
  },
  {
   "cell_type": "code",
   "execution_count": 7,
   "id": "de34f3c5-0a61-4cdd-a19f-d390ac51e421",
   "metadata": {},
   "outputs": [
    {
     "name": "stdout",
     "output_type": "stream",
     "text": [
      "Index name/type: None <class 'pandas.core.indexes.base.Index'>\n",
      "First few index values: Index([360, 361, 362, 363, 364], dtype='int64')\n",
      "Columns: ['text_id', 'chunk_id', 'chunk_text']\n",
      "       chunk_index                                         chunk_text\n",
      "23673        54862  An expedition by the Sultan of Tidore, togethe...\n",
      "23778        54967  in the South West Pacific Theatre of World War...\n",
      "24773        57774  within the United States, although rare errors...\n",
      "24907        57908  Bob Clendenin as Tom Gazelian (recurring in se...\n",
      "24986        57987  and a red light warning for everything that is...\n",
      "25312        58619  2022, Yung Bleu released his single \"Love in t...\n",
      "25522        58933  she did it without support from outside groups...\n",
      "25523        58934  the entire four days calling and emailing ever...\n",
      "28679        65897  tradition that if the weather was sunny and cl...\n",
      "29199        67234  interests\\nMcCreery is an avid sports fan and ...\n",
      "29472        67628  Guns N' Roses, Elizabeth Taylor, George Michae...\n",
      "29935        68201  Khrushchev of his ouster and told him not to r...\n",
      "36183        79494  designated by government ordinance of Japan\\nP...\n",
      "36357        79668  was bugged; however, it was determined that an...\n",
      "36374        79685  not conducted any investigations at all. Nixon...\n",
      "36460        79771  in that; I am involved in that; Mitchell is in...\n",
      "37323        80944  Polish (Polish Fest) communities are typically...\n",
      "38606        82661  students at the Excalibur Hotel and Casino. Sh...\n",
      "41165        90020  three pounds over scale for his age. The field...\n",
      "42311        91782  in a wound that struck both shoulder blades an...\n"
     ]
    }
   ],
   "source": [
    "import pandas as pd\n",
    "top20_indices = result_df.nlargest(20, \"gamma\")[\"chunk_index\"].tolist()\n",
    "# 1) Load the chunk‐text DataFrame\n",
    "texts_df = pd.read_parquet(\"data/filtered_chunked_texts_df.parquet\")\n",
    "\n",
    "# 2) Inspect its structure\n",
    "print(\"Index name/type:\", texts_df.index.name, type(texts_df.index))\n",
    "print(\"First few index values:\", texts_df.index[:5])\n",
    "print(\"Columns:\", list(texts_df.columns))\n",
    "\n",
    "# 3) Assume the actual text column is named \"text\"\n",
    "#    And select by *position* rather than label\n",
    "top20_positions = top20_indices  # your list of integer positions\n",
    "\n",
    "top_chunks = (\n",
    "    texts_df\n",
    "    .reset_index(drop=False)      # move the old index into a column\n",
    "    .iloc[top20_positions]        # pick by integer position\n",
    "    [[texts_df.index.name or \"index\", \"chunk_text\"]]  # keep original index col + text\n",
    "    .rename(columns={texts_df.index.name or \"index\": \"chunk_index\"})\n",
    ")\n",
    "\n",
    "print(top_chunks)\n"
   ]
  },
  {
   "cell_type": "code",
   "execution_count": 8,
   "id": "ae5aad44-0a2b-4419-9660-5791b613bdd1",
   "metadata": {},
   "outputs": [
    {
     "name": "stdout",
     "output_type": "stream",
     "text": [
      "Saved top 20 chunks to top20_chunks.txt\n"
     ]
    }
   ],
   "source": [
    "# Assuming you already have `top_chunks` DataFrame with columns [\"chunk_index\", \"text\"] in your workspace:\n",
    "\n",
    "output_path = \"top20_chunks.txt\"\n",
    "\n",
    "with open(output_path, \"w\", encoding=\"utf-8\") as f:\n",
    "    for _, row in top_chunks.iterrows():\n",
    "        f.write(f\"=== Chunk {row['chunk_index']} ===\\n\")\n",
    "        f.write(row['chunk_text'].strip() + \"\\n\\n\")\n",
    "\n",
    "print(f\"Saved top 20 chunks to {output_path}\")\n"
   ]
  },
  {
   "cell_type": "markdown",
   "id": "7dbfad37-40a7-4c98-983d-665bc3bb6e74",
   "metadata": {},
   "source": [
    "# top 100"
   ]
  },
  {
   "cell_type": "code",
   "execution_count": 13,
   "id": "8fd66030-131a-4eb0-821e-f47d0b3835c0",
   "metadata": {},
   "outputs": [
    {
     "data": {
      "application/vnd.jupyter.widget-view+json": {
       "model_id": "e613b80ce38a4c0d8a7e6d0a4c4ce767",
       "version_major": 2,
       "version_minor": 0
      },
      "text/plain": [
       "Batches:   0%|          | 0/4 [00:00<?, ?it/s]"
      ]
     },
     "metadata": {},
     "output_type": "display_data"
    },
    {
     "data": {
      "application/vnd.jupyter.widget-view+json": {
       "model_id": "44380b9a9b034678be3b5a7099f2fb3a",
       "version_major": 2,
       "version_minor": 0
      },
      "text/plain": [
       "Batches:   0%|          | 0/4 [00:00<?, ?it/s]"
      ]
     },
     "metadata": {},
     "output_type": "display_data"
    },
    {
     "data": {
      "image/png": "[encoded data removed]",
      "text/plain": [
       "<Figure size 800x500 with 1 Axes>"
      ]
     },
     "metadata": {},
     "output_type": "display_data"
    }
   ],
   "source": [
    "import pandas as pd\n",
    "import numpy as np\n",
    "from sentence_transformers import SentenceTransformer\n",
    "from sklearn.metrics.pairwise import cosine_similarity\n",
    "import matplotlib.pyplot as plt\n",
    "\n",
    "# ── 1) Load your data ────────────────────────────────────────────────\n",
    "# Chunk‐level γ scores (must have columns [\"chunk_index\",\"gamma\"])\n",
    "\n",
    "\n",
    "# Chunk texts\n",
    "texts_df = pd.read_parquet(\"data/filtered_chunked_texts_df.parquet\")\n",
    "\n",
    "# Figure out which column holds the text\n",
    "if \"chunk_text\" in texts_df.columns:\n",
    "    text_col = \"chunk_text\"\n",
    "elif \"text\" in texts_df.columns:\n",
    "    text_col = \"text\"\n",
    "else:\n",
    "    raise ValueError(f\"Could not find chunk text column among {texts_df.columns.tolist()}\")\n",
    "\n",
    "# ── 2) Select top 100 and 100 random chunks ────────────────────────────\n",
    "# chunk_index in result_df refers to the integer position in texts_df\n",
    "top100_idx = result_df.nlargest(100, \"gamma\")[\"chunk_index\"].astype(int).tolist()\n",
    "\n",
    "# All valid positions 0…len(texts_df)-1\n",
    "all_pos = np.arange(len(texts_df))\n",
    "# Exclude top100, then sample 100\n",
    "random100_pos = np.random.choice(np.setdiff1d(all_pos, top100_idx), 100, replace=False)\n",
    "\n",
    "# Reset index so that original integer positions become a column\n",
    "texts_reset = texts_df.reset_index(drop=False)\n",
    "orig_idx_col = texts_reset.columns[0]  # usually \"index\" or whatever your index name was\n",
    "\n",
    "# Extract the actual texts\n",
    "top100_texts  = texts_reset.iloc[top100_idx][text_col].tolist()\n",
    "rand100_texts = texts_reset.iloc[random100_pos][text_col].tolist()\n",
    "\n",
    "# ── 3) Embed both sets ───────────────────────────────────────────────\n",
    "model = SentenceTransformer(\"all-MiniLM-L6-v2\")\n",
    "emb_top  = model.encode(top100_texts,  convert_to_numpy=True, show_progress_bar=True)\n",
    "emb_rand = model.encode(rand100_texts, convert_to_numpy=True, show_progress_bar=True)\n",
    "\n",
    "# ── 4) Compute pairwise cosine similarities (i<j) ────────────────────\n",
    "def pairwise_upper_sims(emb):\n",
    "    sims = cosine_similarity(emb)\n",
    "    i, j = np.triu_indices_from(sims, k=1)\n",
    "    return sims[i, j]\n",
    "\n",
    "sims_top  = pairwise_upper_sims(emb_top)\n",
    "sims_rand = pairwise_upper_sims(emb_rand)\n",
    "\n",
    "# ── 5) Plot distributions ────────────────────────────────────────────\n",
    "plt.figure(figsize=(8, 5))\n",
    "plt.hist(sims_rand, bins=50, alpha=0.4, label=\"Random 100\", density=True)\n",
    "plt.hist(sims_top,  bins=50, alpha=0.4, label=\"Top 100\",    density=True)\n",
    "plt.title(\"Pairwise Cosine Similarity: Top-100 vs. Random-100 Chunks\")\n",
    "plt.xlabel(\"Cosine Similarity\")\n",
    "plt.ylabel(\"Density\")\n",
    "plt.legend()\n",
    "plt.tight_layout()\n",
    "plt.show()\n",
    "\n"
   ]
  },
  {
   "cell_type": "markdown",
   "id": "e9c4b922-caf8-4246-978f-97b041f9655f",
   "metadata": {},
   "source": [
    "# lowest 100"
   ]
  },
  {
   "cell_type": "code",
   "execution_count": 10,
   "id": "41679c8a-7ad1-4191-b453-0b3cda42fc08",
   "metadata": {},
   "outputs": [
    {
     "data": {
      "application/vnd.jupyter.widget-view+json": {
       "model_id": "d02cccd12b0e4a1d9f69502aba74e1a8",
       "version_major": 2,
       "version_minor": 0
      },
      "text/plain": [
       "Batches:   0%|          | 0/4 [00:00<?, ?it/s]"
      ]
     },
     "metadata": {},
     "output_type": "display_data"
    },
    {
     "data": {
      "application/vnd.jupyter.widget-view+json": {
       "model_id": "a3a05b3d549845db91fa251ceeaf3a7d",
       "version_major": 2,
       "version_minor": 0
      },
      "text/plain": [
       "Batches:   0%|          | 0/4 [00:00<?, ?it/s]"
      ]
     },
     "metadata": {},
     "output_type": "display_data"
    },
    {
     "data": {
      "image/png": "[encoded data removed]",
      "text/plain": [
       "<Figure size 800x500 with 1 Axes>"
      ]
     },
     "metadata": {},
     "output_type": "display_data"
    }
   ],
   "source": [
    "import pandas as pd\n",
    "import numpy as np\n",
    "from sentence_transformers import SentenceTransformer\n",
    "from sklearn.metrics.pairwise import cosine_similarity\n",
    "import matplotlib.pyplot as plt\n",
    "\n",
    "# ── 1) Load your data ────────────────────────────────────────────────\n",
    "# Chunk‐level γ scores (must have columns [\"chunk_index\",\"gamma\"])\n",
    "\n",
    "\n",
    "# Chunk texts\n",
    "texts_df = pd.read_parquet(\"data/filtered_chunked_texts_df.parquet\")\n",
    "\n",
    "# Figure out which column holds the text\n",
    "if \"chunk_text\" in texts_df.columns:\n",
    "    text_col = \"chunk_text\"\n",
    "elif \"text\" in texts_df.columns:\n",
    "    text_col = \"text\"\n",
    "else:\n",
    "    raise ValueError(f\"Could not find chunk text column among {texts_df.columns.tolist()}\")\n",
    "\n",
    "# ── 2) Select top 100 and 100 random chunks ────────────────────────────\n",
    "# chunk_index in result_df refers to the integer position in texts_df\n",
    "bottom100_idx = result_df.nsmallest(100, \"gamma\")[\"chunk_index\"].astype(int).tolist()\n",
    "\n",
    "\n",
    "# All valid positions 0…len(texts_df)-1\n",
    "all_pos = np.arange(len(texts_df))\n",
    "# Exclude top100, then sample 100\n",
    "random100_pos = np.random.choice(np.setdiff1d(all_pos, bottom100_idx), 100, replace=False)\n",
    "\n",
    "# Reset index so that original integer positions become a column\n",
    "texts_reset = texts_df.reset_index(drop=False)\n",
    "orig_idx_col = texts_reset.columns[0]  # usually \"index\" or whatever your index name was\n",
    "\n",
    "# Extract the actual texts\n",
    "top100_texts  = texts_reset.iloc[bottom100_idx][text_col].tolist()\n",
    "rand100_texts = texts_reset.iloc[random100_pos][text_col].tolist()\n",
    "\n",
    "# ── 3) Embed both sets ───────────────────────────────────────────────\n",
    "model = SentenceTransformer(\"all-MiniLM-L6-v2\")\n",
    "emb_top  = model.encode(top100_texts,  convert_to_numpy=True, show_progress_bar=True)\n",
    "emb_rand = model.encode(rand100_texts, convert_to_numpy=True, show_progress_bar=True)\n",
    "\n",
    "# ── 4) Compute pairwise cosine similarities (i<j) ────────────────────\n",
    "def pairwise_upper_sims(emb):\n",
    "    sims = cosine_similarity(emb)\n",
    "    i, j = np.triu_indices_from(sims, k=1)\n",
    "    return sims[i, j]\n",
    "\n",
    "sims_top  = pairwise_upper_sims(emb_top)\n",
    "sims_rand = pairwise_upper_sims(emb_rand)\n",
    "\n",
    "# ── 5) Plot distributions ────────────────────────────────────────────\n",
    "plt.figure(figsize=(8, 5))\n",
    "plt.hist(sims_rand, bins=50, alpha=0.4, label=\"Random 100\", density=True)\n",
    "plt.hist(sims_top,  bins=50, alpha=0.4, label=\"Bottom 100\",    density=True)\n",
    "plt.title(\"Pairwise Cosine Similarity: Bottom 100 vs. Random-100 Chunks\")\n",
    "plt.xlabel(\"Cosine Similarity\")\n",
    "plt.ylabel(\"Density\")\n",
    "plt.legend()\n",
    "plt.tight_layout()\n",
    "plt.show()\n",
    "\n"
   ]
  },
  {
   "cell_type": "code",
   "execution_count": 14,
   "id": "7864f0f5-d994-4248-8068-abdfb8cfd1c3",
   "metadata": {},
   "outputs": [
    {
     "data": {
      "image/png": "[encoded data removed]",
      "text/plain": [
       "<Figure size 800x400 with 1 Axes>"
      ]
     },
     "metadata": {},
     "output_type": "display_data"
    }
   ],
   "source": [
    "sorted_df = result_df.head(100000000).sort_values(\"gamma\", ascending=False).reset_index(drop=True)\n",
    "\n",
    "# Plot sorted gamma values\n",
    "plt.figure(figsize=(8, 4))\n",
    "plt.plot(sorted_df.index + 1, sorted_df[\"gamma\"], marker=\".\", linewidth=1)\n",
    "plt.xlabel(\"Rank (1 = highest γ)\")\n",
    "plt.ylabel(\"γ (Correlation Score)\")\n",
    "plt.title(\"Gemma Correlation Scores Sorted Descending\")\n",
    "plt.grid(alpha=0.3)\n",
    "plt.tight_layout()\n",
    "plt.show()"
   ]
  },
  {
   "cell_type": "code",
   "execution_count": 14,
   "id": "55fbdf0d-f1a8-4a41-9d2c-86e20829b1f7",
   "metadata": {},
   "outputs": [
    {
     "name": "stdout",
     "output_type": "stream",
     "text": [
      "LOO R²  = -0.525\n",
      "LOO MSE = 0.0200\n",
      "\n",
      "α chosen by LassoCV = 100\n",
      "Non-zero coefficients (chunk_id → β):\n"
     ]
    }
   ],
   "source": [
    "import numpy as np\n",
    "from sklearn.linear_model import LassoCV\n",
    "from sklearn.model_selection import LeaveOneOut\n",
    "from sklearn.preprocessing import StandardScaler\n",
    "from sklearn.pipeline import make_pipeline\n",
    "from sklearn.metrics import r2_score, mean_squared_error\n",
    "\n",
    "\n",
    "\n",
    "loo = LeaveOneOut()\n",
    "lasso_pipe = make_pipeline(\n",
    "    StandardScaler(with_mean=False),\n",
    "    LassoCV(alphas=np.logspace(-4, 2, 50),\n",
    "            cv=LeaveOneOut(),\n",
    "            max_iter=10_000)\n",
    ")\n",
    "\n",
    "# ── leave-one-out loop (row slices via .iloc) ───────────────────────────────\n",
    "preds = np.empty_like(y, dtype=float)\n",
    "for train_idx, test_idx in loo.split(X):\n",
    "    X_train = X.iloc[train_idx]\n",
    "    X_test  = X.iloc[test_idx]\n",
    "    y_train = y[train_idx]\n",
    "    lasso_pipe.fit(X_train, y_train)\n",
    "    preds[test_idx] = lasso_pipe.predict(X_test)\n",
    "\n",
    "R2  = r2_score(y, preds)\n",
    "MSE = mean_squared_error(y, preds)\n",
    "\n",
    "print(f\"LOO R²  = {R2:+.3f}\")\n",
    "print(f\"LOO MSE = {MSE:.4f}\")\n",
    "\n",
    "# ── fit once on all 6 rows to inspect sparsity pattern ──────────────────────\n",
    "lasso_pipe.fit(X, y)\n",
    "alpha = lasso_pipe.named_steps[\"lassocv\"].alpha_\n",
    "coefs = lasso_pipe.named_steps[\"lassocv\"].coef_\n",
    "\n",
    "print(f\"\\nα chosen by LassoCV = {alpha:.4g}\")\n",
    "print(\"Non-zero coefficients (chunk_id → β):\")\n",
    "for cid, beta in zip(X.columns, coefs):\n",
    "    if beta != 0.0:\n",
    "        print(f\"  {cid:>6} → {beta:+.4f}\")"
   ]
  },
  {
   "cell_type": "code",
   "execution_count": null,
   "id": "ce3fe0b0-e9b0-4f4e-88dd-3aeaa2b7cd8d",
   "metadata": {},
   "outputs": [],
   "source": []
  }
 ],
 "metadata": {
  "kernelspec": {
   "display_name": "Python 3 (ipykernel)",
   "language": "python",
   "name": "python3"
  },
  "language_info": {
   "codemirror_mode": {
    "name": "ipython",
    "version": 3
   },
   "file_extension": ".py",
   "mimetype": "text/x-python",
   "name": "python",
   "nbconvert_exporter": "python",
   "pygments_lexer": "ipython3",
   "version": "3.11.11"
  }
 },
 "nbformat": 4,
 "nbformat_minor": 5
}
